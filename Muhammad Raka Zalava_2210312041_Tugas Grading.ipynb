{
 "cells": [
  {
   "cell_type": "code",
   "execution_count": 19,
   "metadata": {},
   "outputs": [
    {
     "name": "stdout",
     "output_type": "stream",
     "text": [
      "Silakan masukkan id dan password anda!\n",
      "ID:  joko123\n",
      "Password:  number1\n",
      "Wrong ID or password, try again.\n",
      "ID:  yassinebounou1\n",
      "Password:  mixue123\n",
      "Wrong ID or password, try again.\n",
      "ID:  yassinebounou1\n",
      "Password:  number1\n",
      "Status Login = Active\n",
      "\n",
      "\n",
      "Halo,  yassinebounou1 !\n",
      "\n",
      "\n",
      "Masukkan nama mahasiswa yang akan digrading:  Muhammad Raka Zalava\n",
      "Nama mata kuliah:  Logika Pemrograman & Praktikum\n",
      "Silakan masukkan nilai Presensi:  100\n",
      "Silakan masukkan nilai Tugas:  98\n",
      "Silakan masukkan nilai UTS:  100\n",
      "Silakan masukkan nilai UAS:  95\n",
      "\n",
      "\n",
      "Mahasiswa Muhammad Raka Zalava mendapatkan nilai A untuk mata kuliah Logika Pemrograman & Praktikum dengan total nilai 97.7\n"
     ]
    }
   ],
   "source": [
    "username = \"yassinebounou1\"\n",
    "password = \"number1\"\n",
    "\n",
    "print(\"Silakan masukkan id dan password anda!\")\n",
    "\n",
    "while True:\n",
    "    nama_pengguna = input(\"ID: \")\n",
    "    print(\"ID: \", nama_pengguna)\n",
    "    kata_sandi = input(\"Password: \")\n",
    "    print(\"Password: \", kata_sandi)\n",
    "    if nama_pengguna not in (username) or kata_sandi not in (password):\n",
    "        print(\"Wrong ID or password, try again.\")\n",
    "        continue\n",
    "    else:\n",
    "        print(\"Status Login = Active\")\n",
    "        break\n",
    "print(\"\\n\")\n",
    "\n",
    "print(\"Halo, \", nama_pengguna, \"!\")\n",
    "print(\"\\n\")\n",
    "\n",
    "Nama_Mahasiswa = input(\"Masukkan nama mahasiswa yang akan digrading: \")\n",
    "print(\"Masukkan nama mahasiswa yang akan digrading: \", Nama_Mahasiswa)\n",
    "Mata_Kuliah = input(\"Nama mata kuliah: \")\n",
    "print(\"Nama mata kuliah: \", Mata_Kuliah)\n",
    "Nilai_Presensi = int(input(\"Silakan masukkan nilai Presensi: \"))\n",
    "print(\"Silakan masukkan nilai Presensi: \", Nilai_Presensi)\n",
    "Nilai_Tugas = int(input(\"Silakan masukkan nilai Tugas: \"))\n",
    "print(\"Silakan masukkan nilai Tugas: \", Nilai_Tugas)\n",
    "Nilai_UTS = int(input(\"Silakan masukkan nilai UTS: \"))\n",
    "print(\"Silakan masukkan nilai UTS: \", Nilai_UTS)\n",
    "Nilai_UAS = int(input(\"Silakan masukkan nilai UAS: \"))\n",
    "print(\"Silakan masukkan nilai UAS: \", Nilai_UAS)\n",
    "\n",
    "def averageNilai(Nilai_Presensi, Nilai_Tugas, Nilai_UTS, Nilai_UAS):\n",
    "    total_nilai = (0.05*float(Nilai_Presensi)) + (0.1*float(Nilai_Tugas)) + (0.30*float(Nilai_Tugas)) + (0.25*float(Nilai_UTS)) + (0.30*float(Nilai_UAS))\n",
    "    if 100 >= total_nilai >= 85:\n",
    "        return \"A\"\n",
    "    elif total_nilai >= 70:\n",
    "        return \"B\"\n",
    "    elif total_nilai>= 50:\n",
    "        return \"C\"\n",
    "    elif total_nilai>= 30:\n",
    "        return \"D\"\n",
    "    else:\n",
    "        return \"E\"\n",
    "P = Nama_Mahasiswa\n",
    "Q = Mata_Kuliah\n",
    "R = averageNilai(Nilai_Presensi, Nilai_Tugas, Nilai_UTS, Nilai_UAS)\n",
    "total_nilai = (0.05*float(Nilai_Presensi)) + (0.1*float(Nilai_Tugas)) + (0.30*float(Nilai_Tugas)) + (0.25*float(Nilai_UTS)) + (0.30*float(Nilai_UAS))\n",
    "\n",
    "print(\"\\n\")\n",
    "print (\"Mahasiswa\", P, \"mendapatkan nilai\", R, \"untuk mata kuliah\", Q, \"dengan total nilai\", total_nilai)\n"
   ]
  }
 ],
 "metadata": {
  "kernelspec": {
   "display_name": "Python 3.10.7 64-bit",
   "language": "python",
   "name": "python3"
  },
  "language_info": {
   "codemirror_mode": {
    "name": "ipython",
    "version": 3
   },
   "file_extension": ".py",
   "mimetype": "text/x-python",
   "name": "python",
   "nbconvert_exporter": "python",
   "pygments_lexer": "ipython3",
   "version": "3.10.7"
  },
  "orig_nbformat": 4,
  "vscode": {
   "interpreter": {
    "hash": "16ea4d449b5fa2e93563f2348539353d9a296ca802f2dee2cbf30873b686a06d"
   }
  }
 },
 "nbformat": 4,
 "nbformat_minor": 2
}
