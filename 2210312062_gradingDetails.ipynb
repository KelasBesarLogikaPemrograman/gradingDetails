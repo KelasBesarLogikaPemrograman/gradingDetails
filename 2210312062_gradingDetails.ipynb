{
 "cells": [
  {
   "cell_type": "code",
   "execution_count": 2,
   "metadata": {},
   "outputs": [
    {
     "name": "stdout",
     "output_type": "stream",
     "text": [
      "masukkan username dan password anda\n",
      "\n",
      "\n",
      "status_login = active\n",
      "\n",
      "\n",
      "Halo widyarj,\n",
      "Mahasiswa Widya Rinjani telah mendapatkan nilai A untuk Mata Kuliah Logika Pemrograman Praktikum dengan skor total 96.1\n"
     ]
    }
   ],
   "source": [
    "#output yang diperoleh jika username dan password benar, dengan nilai presensi yang di input yaitu = 100, nilai tugas = 95, nilai UTS = 96, dan nilai UAS = 97\n",
    "\n",
    "username = \"widyarj\"\n",
    "password = \"123abc\"\n",
    "\n",
    "print(\"masukkan username dan password anda\")\n",
    "user_name = input(\"username: \")\n",
    "pass_word = input(\"password: \")\n",
    "print(\"\\n\")\n",
    "\n",
    "if username==user_name and password==pass_word:\n",
    "    print(\"status_login = active\")\n",
    "    print(\"\\n\")\n",
    "    print(\"Halo \" + user_name + \",\")\n",
    "    nama = input(\"Masukkan Nama Mahasiswa yang akan di grading : \")\n",
    "    matkul = input(\"Nama Mata Kuliah : \")\n",
    "    nilai_presensi = input(\"Silahkan Masukkan nilai Presensi : \")\n",
    "    nilai_tugas = input(\"Silahkan Masukkan nilai Tugas : \")\n",
    "    nilai_UTS = input(\"Silahkan Masukkan Nilai UTS : \")\n",
    "    nilai_UAS = input(\"Silahkan Masukkan Nilai UAS : \")\n",
    "    def nilai(nilai_presensi, nilai_tugas, nilai_UTS, nilai_UAS):\n",
    "        total_nilai = (0.05 * float(nilai_presensi)) + (0.1 * float(nilai_tugas)) + (0.30 * float(nilai_tugas)) + (0.25 * float(nilai_UTS)) + (0.30 * float(nilai_UAS))\n",
    "        if 100 >= total_nilai >= 85:\n",
    "            return \"A\"\n",
    "        elif total_nilai >= 70 :\n",
    "            return \"B\"\n",
    "        elif total_nilai>= 50:\n",
    "            return \"C\"\n",
    "        elif total_nilai>= 30 :\n",
    "            return \"D\"\n",
    "        else :\n",
    "            return \"E\"\n",
    "    nilai_huruf = nilai(nilai_presensi, nilai_tugas, nilai_UTS, nilai_UAS)\n",
    "    total_nilai = (0.05 * float(nilai_presensi)) + (0.1 * float(nilai_tugas)) + (0.30 * float(nilai_tugas)) + (0.25 * float(nilai_UTS)) + (0.30 * float(nilai_UAS))\n",
    "    print (f\"Mahasiswa {nama} telah mendapatkan nilai {nilai_huruf} untuk Mata Kuliah {matkul} dengan skor total {total_nilai}\")    \n",
    "else :\n",
    "    print(\"error\")"
   ]
  },
  {
   "cell_type": "code",
   "execution_count": 3,
   "metadata": {},
   "outputs": [
    {
     "name": "stdout",
     "output_type": "stream",
     "text": [
      "masukkan username dan password anda\n",
      "\n",
      "\n",
      "error\n"
     ]
    }
   ],
   "source": [
    "#output yang diperoleh dengan username dan password salah\n",
    "\n",
    "username = \"widyarj\"\n",
    "password = \"123abc\"\n",
    "\n",
    "print(\"masukkan username dan password anda\")\n",
    "user_name = input(\"username: \")\n",
    "pass_word = input(\"password: \")\n",
    "print(\"\\n\")\n",
    "\n",
    "if username==user_name and password==pass_word:\n",
    "    print(\"status_login = active\")\n",
    "    print(\"\\n\")\n",
    "    print(\"Halo \" + user_name + \",\")\n",
    "    nama = input(\"Masukkan Nama Mahasiswa yang akan di grading : \")\n",
    "    matkul = input(\"Nama Mata Kuliah : \")\n",
    "    nilai_presensi = input(\"Silahkan Masukkan nilai Presensi : \")\n",
    "    nilai_tugas = input(\"Silahkan Masukkan nilai Tugas : \")\n",
    "    nilai_UTS = input(\"Silahkan Masukkan Nilai UTS : \")\n",
    "    nilai_UAS = input(\"Silahkan Masukkan Nilai UAS : \")\n",
    "    def nilai(nilai_presensi, nilai_tugas, nilai_UTS, nilai_UAS):\n",
    "        total_nilai = (0.05 * float(nilai_presensi)) + (0.1 * float(nilai_tugas)) + (0.30 * float(nilai_tugas)) + (0.25 * float(nilai_UTS)) + (0.30 * float(nilai_UAS))\n",
    "        if 100 >= total_nilai >= 85:\n",
    "            return \"A\"\n",
    "        elif total_nilai >= 70 :\n",
    "            return \"B\"\n",
    "        elif total_nilai>= 50:\n",
    "            return \"C\"\n",
    "        elif total_nilai>= 30 :\n",
    "            return \"D\"\n",
    "        else :\n",
    "            return \"E\"\n",
    "    nilai_huruf = nilai(nilai_presensi, nilai_tugas, nilai_UTS, nilai_UAS)\n",
    "    total_nilai = (0.05 * float(nilai_presensi)) + (0.1 * float(nilai_tugas)) + (0.30 * float(nilai_tugas)) + (0.25 * float(nilai_UTS)) + (0.30 * float(nilai_UAS))\n",
    "    print (f\"Mahasiswa {nama} telah mendapatkan nilai {nilai_huruf} untuk Mata Kuliah {matkul} dengan skor total {total_nilai}\")    \n",
    "else :\n",
    "    print(\"error\")"
   ]
  }
 ],
 "metadata": {
  "kernelspec": {
   "display_name": "Python 3.10.7 64-bit",
   "language": "python",
   "name": "python3"
  },
  "language_info": {
   "codemirror_mode": {
    "name": "ipython",
    "version": 3
   },
   "file_extension": ".py",
   "mimetype": "text/x-python",
   "name": "python",
   "nbconvert_exporter": "python",
   "pygments_lexer": "ipython3",
   "version": "3.10.7"
  },
  "orig_nbformat": 4,
  "vscode": {
   "interpreter": {
    "hash": "fb4569285eef3a3450cb62085a5b1e0da4bce0af555edc33dcf29baf3acc1368"
   }
  }
 },
 "nbformat": 4,
 "nbformat_minor": 2
}
