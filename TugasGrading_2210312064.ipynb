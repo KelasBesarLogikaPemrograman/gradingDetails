{
 "cells": [
  {
   "cell_type": "code",
   "execution_count": 5,
   "metadata": {},
   "outputs": [
    {
     "name": "stdout",
     "output_type": "stream",
     "text": [
      "Tolong masukkan nama pengguna dan kata sandi anda!\n",
      "Nama Pengguna: Achmad Casillas\n",
      "Kata sandi: cas30066\n",
      "\n",
      "\n",
      "Status Login = Aktif\n",
      "Halo, Achmad Casillas !\n",
      "\n",
      "\n",
      "Masukkan nama mahasiswa yang akan digrading : Mohammad Zidane\n",
      "Nama mata kuliah : Logika Pemograman dan Praktikum\n",
      "Silakan masukkan nilai presensi : 100\n",
      "Silakan masukkan nilai tugas : 98.8\n",
      "Silakan masukkan nilai UTS : 97.2\n",
      "Silakan masukkan nilai UAS : 98.5\n",
      "\n",
      "\n",
      "Mahasiswa Mohammad Zidane mendapatkan nilai A untuk mata kuliah Logika Pemograman dan Praktikum dengan total nilai 98.36999999999999\n"
     ]
    }
   ],
   "source": [
    "username1 = \"Achmad Casillas\"\n",
    "password1 = \"cas30066\"\n",
    "\n",
    "print (\"Tolong masukkan nama pengguna dan kata sandi anda!\")\n",
    "username = input(\"Nama Pengguna:\")\n",
    "print(\"Nama Pengguna:\", username)\n",
    "password = input(\"Kata sandi:\")\n",
    "print(\"Kata sandi:\", password)\n",
    "print(\"\\n\")\n",
    "\n",
    "if username==username1 and password==password1:\n",
    "    print(\"Status Login = Aktif\")\n",
    "    print(\"Halo,\", username, \"!\")\n",
    "    print(\"\\n\")\n",
    "    Nama_Mahasiswa = input(\"Masukkan nama mahasiswa yang akan digrading :\")\n",
    "    print(\"Masukkan nama mahasiswa yang akan digrading :\", Nama_Mahasiswa)\n",
    "    Nama_MataKuliah = input(\"Nama mata kuliah :\")\n",
    "    print(\"Nama mata kuliah :\", Nama_MataKuliah)\n",
    "    Nilai_Presensi = input(\"Silakan masukkan nilai presensi :\")\n",
    "    print(\"Silakan masukkan nilai presensi :\", Nilai_Presensi)\n",
    "    Nilai_Tugas = input(\"Silakan masukkan nilai tugas :\")\n",
    "    print(\"Silakan masukkan nilai tugas :\", Nilai_Tugas)\n",
    "    Nilai_UTS = input(\"Silakan masukkan nilai UTS :\")\n",
    "    print(\"Silakan masukkan nilai UTS :\", Nilai_UTS)\n",
    "    Nilai_UAS = input(\"Silakan masukkan nilai UAS :\")\n",
    "    print(\"Silakan masukkan nilai UAS :\", Nilai_UAS)\n",
    "    def averageNilai(Nilai_Presensi, Nilai_Tugas, Nilai_UTS, Nilai_UAS):\n",
    "        totalnilai = (0.05*float(Nilai_Presensi)) + (0.1*float(Nilai_Tugas)) + (0.30*float(Nilai_Tugas)) + (0.25*float(Nilai_UTS)) + (0.30*float(Nilai_UAS))\n",
    "        if 100 >= totalnilai >= 85:\n",
    "            return \"A\"\n",
    "        elif totalnilai >= 70 :\n",
    "            return \"B\"\n",
    "        elif totalnilai>= 50:\n",
    "            return \"C\"\n",
    "        elif totalnilai>= 30 :\n",
    "            return \"D\"\n",
    "        else :\n",
    "            return \"E\"\n",
    "\n",
    "    P = Nama_Mahasiswa\n",
    "    Q = Nama_MataKuliah\n",
    "    R = averageNilai(Nilai_Presensi, Nilai_Tugas, Nilai_UTS, Nilai_UAS)\n",
    "    totalnilai = (0.05*float(Nilai_Presensi)) + (0.1*float(Nilai_Tugas)) + (0.30*float(Nilai_Tugas)) + (0.25*float(Nilai_UTS)) + (0.30*float(Nilai_UAS))\n",
    "    print(\"\\n\") \n",
    "    print (\"Mahasiswa\", P, \"mendapatkan nilai\", R, \"untuk mata kuliah\", Q, \"dengan total nilai\", totalnilai)\n",
    "\n",
    "else :\n",
    "    print(\"Ups,error!!!\")\n"
   ]
  }
 ],
 "metadata": {
  "kernelspec": {
   "display_name": "Python 3.8.10 64-bit (microsoft store)",
   "language": "python",
   "name": "python3"
  },
  "language_info": {
   "codemirror_mode": {
    "name": "ipython",
    "version": 3
   },
   "file_extension": ".py",
   "mimetype": "text/x-python",
   "name": "python",
   "nbconvert_exporter": "python",
   "pygments_lexer": "ipython3",
   "version": "3.8.10"
  },
  "orig_nbformat": 4,
  "vscode": {
   "interpreter": {
    "hash": "b4c01c8f52586033bb4bb2bf4f864991e275e728809d596b5bf2a750c26b84f7"
   }
  }
 },
 "nbformat": 4,
 "nbformat_minor": 2
}
