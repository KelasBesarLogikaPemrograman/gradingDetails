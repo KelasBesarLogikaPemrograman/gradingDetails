{
 "cells": [
  {
   "cell_type": "code",
   "execution_count": 1,
   "metadata": {},
   "outputs": [
    {
     "name": "stdout",
     "output_type": "stream",
     "text": [
      "Silakan masukkan id dan password anda!\n",
      "ID:  lathifah\n",
      "Password:  number66\n",
      "Wrong ID or password, try again.\n",
      "ID:  rahmani\n",
      "Password:  number77\n",
      "Wrong ID or password, try again.\n",
      "ID:  rahmani\n",
      "Password:  number66\n",
      "Status Login = Active\n",
      "\n",
      "\n",
      "Halo,  rahmani !\n",
      "\n",
      "\n",
      "Masukkan nama mahasiswa yang akan digrading:  Lathifah Ilmi Rahmani Lubis\n",
      "Nama mata kuliah:  Fisika\n",
      "Silakan masukkan nilai Presensi:  90\n",
      "Silakan masukkan nilai Tugas:  90\n",
      "Silakan masukkan nilai UTS:  90\n",
      "Silakan masukkan nilai UAS:  90\n",
      "\n",
      "\n",
      "Mahasiswa Lathifah Ilmi Rahmani Lubis mendapatkan nilai A untuk mata kuliah Fisika dengan total nilai 90.0\n"
     ]
    }
   ],
   "source": [
    "username1 = \"lathifah\"\n",
    "password1 = \"number60\"\n",
    "username2 = \"rahmani\"\n",
    "password2 = \"number66\"\n",
    "\n",
    "print(\"Silakan masukkan id dan password anda!\")\n",
    "\n",
    "while True:\n",
    "    nama_pengguna = input(\"ID: \")\n",
    "    print(\"ID: \", nama_pengguna)\n",
    "    kata_sandi = input(\"Password: \")\n",
    "    print(\"Password: \", kata_sandi)\n",
    "    if nama_pengguna == (username1) and kata_sandi == (password1):\n",
    "        break\n",
    "    elif nama_pengguna == (username2) and kata_sandi == (password2):\n",
    "        break\n",
    "    else:\n",
    "        print(\"Wrong ID or password, try again.\")\n",
    "        continue\n",
    "print(\"Status Login = Active\")\n",
    "print(\"\\n\")\n",
    "\n",
    "print(\"Halo, \", nama_pengguna, \"!\")\n",
    "print(\"\\n\")\n",
    "\n",
    "Nama_Mahasiswa = input(\"Masukkan nama mahasiswa yang akan digrading: \")\n",
    "print(\"Masukkan nama mahasiswa yang akan digrading: \", Nama_Mahasiswa)\n",
    "Mata_Kuliah = input(\"Nama mata kuliah: \")\n",
    "print(\"Nama mata kuliah: \", Mata_Kuliah)\n",
    "Nilai_Presensi = int(input(\"Silakan masukkan nilai Presensi: \"))\n",
    "print(\"Silakan masukkan nilai Presensi: \", Nilai_Presensi)\n",
    "Nilai_Tugas = int(input(\"Silakan masukkan nilai Tugas: \"))\n",
    "print(\"Silakan masukkan nilai Tugas: \", Nilai_Tugas)\n",
    "Nilai_UTS = int(input(\"Silakan masukkan nilai UTS: \"))\n",
    "print(\"Silakan masukkan nilai UTS: \", Nilai_UTS)\n",
    "Nilai_UAS = int(input(\"Silakan masukkan nilai UAS: \"))\n",
    "print(\"Silakan masukkan nilai UAS: \", Nilai_UAS)\n",
    "\n",
    "def averageNilai(Nilai_Presensi, Nilai_Tugas, Nilai_UTS, Nilai_UAS):\n",
    "    total_nilai = (0.05*float(Nilai_Presensi)) + (0.1*float(Nilai_Tugas)) + (0.30*float(Nilai_Tugas)) + (0.25*float(Nilai_UTS)) + (0.30*float(Nilai_UAS))\n",
    "    \n",
    "    if 100 >= total_nilai >= 85:\n",
    "        return \"A\"\n",
    "    elif total_nilai >= 70:\n",
    "        return \"B\"\n",
    "    elif total_nilai>= 50:\n",
    "        return \"C\"\n",
    "    elif total_nilai>= 30:\n",
    "        return \"D\"\n",
    "    else:\n",
    "        return \"E\"\n",
    "H = Nama_Mahasiswa\n",
    "I = Mata_Kuliah\n",
    "J = averageNilai(Nilai_Presensi, Nilai_Tugas, Nilai_UTS, Nilai_UAS)\n",
    "total_nilai = (0.05*float(Nilai_Presensi)) + (0.1*float(Nilai_Tugas)) + (0.30*float(Nilai_Tugas)) + (0.25*float(Nilai_UTS)) + (0.30*float(Nilai_UAS))\n",
    "\n",
    "print(\"\\n\")\n",
    "print (\"Mahasiswa\", H, \"mendapatkan nilai\", J, \"untuk mata kuliah\", I, \"dengan total nilai\", total_nilai)"
   ]
  }
 ],
 "metadata": {
  "kernelspec": {
   "display_name": "Python 3.10.6 64-bit",
   "language": "python",
   "name": "python3"
  },
  "language_info": {
   "codemirror_mode": {
    "name": "ipython",
    "version": 3
   },
   "file_extension": ".py",
   "mimetype": "text/x-python",
   "name": "python",
   "nbconvert_exporter": "python",
   "pygments_lexer": "ipython3",
   "version": "3.10.6"
  },
  "orig_nbformat": 4,
  "vscode": {
   "interpreter": {
    "hash": "f43cf8dec1e3aaa9f992e2680d889972e94c7b3065ca5d1e14d551639ac79415"
   }
  }
 },
 "nbformat": 4,
 "nbformat_minor": 2
}
