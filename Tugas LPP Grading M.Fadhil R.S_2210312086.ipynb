{
 "cells": [
  {
   "cell_type": "code",
   "execution_count": 16,
   "id": "1b7f6b65",
   "metadata": {
    "scrolled": true
   },
   "outputs": [
    {
     "name": "stdout",
     "output_type": "stream",
     "text": [
      "Please Enter your username or ID and password to Login :\n",
      "Username or ID :DonyM\n",
      "Password :ADA123*\n",
      "\n",
      "\n",
      "Status_Login = Active\n",
      "Hallo, DonyM\n",
      "\n",
      "\n",
      "Masukkan Nama Mahasiswa yang akan di grading : Muhammad Fadhil Riza Sulaiman\n",
      "Nama Mata Kuliah : Logika Programan dan Praktikum\n",
      "Silahkan Masukkan nilai Presensi : 100\n",
      "Silahkan Masukkan nilai Tugas : 100\n",
      "Silahkan Masukkan nilai UTS : 100\n",
      "Silahkan Masukkan nilai UAS : 100\n",
      "\n",
      "\n",
      "Mahasiswa Muhammad Fadhil Riza Sulaiman mendapatkan nilai A untuk Mata Kuliah Logika Programan dan Praktikum dengan skor total 100.0\n"
     ]
    }
   ],
   "source": [
    "#FADXA1718\n",
    "\n",
    "usernameID_login1 = \"DonyM\"\n",
    "password_login1 = \"ADA123*\"\n",
    "usernamaID_Login2 = \"Yulizarw\"\n",
    "password_login2 = \"ADA124*\"\n",
    "\n",
    "print (\"Please Enter your username or ID and password to Login :\")\n",
    "user_name = input(\"Username or ID :\")\n",
    "pass_word = input(\"Password :\")\n",
    "print (\"\\n\")\n",
    "\n",
    "if user_name == user_name and pass_word == pass_word :\n",
    "    print (\"Status_Login = Active\")\n",
    "    print (\"Hallo, \" + user_name)\n",
    "    print (\"\\n\")\n",
    "    Nama_Mahasiswa = input(\"Masukkan Nama Mahasiswa yang akan di grading : \")\n",
    "    Nama_Matkul = input(\"Nama Mata Kuliah : \")\n",
    "    Nilai_Presensi = input(\"Silahkan Masukkan nilai Presensi : \")\n",
    "    Nilai_Tugas = input(\"Silahkan Masukkan nilai Tugas : \")\n",
    "    Nilai_UTS = input(\"Silahkan Masukkan nilai UTS : \")\n",
    "    Nilai_UAS = input(\"Silahkan Masukkan nilai UAS : \")\n",
    "    def rata_rata_nilai(Nilai_Presensi, Nilai_Tugas, Nilai_UTS, Nilai_UAS):\n",
    "        total_nilai = 0.05 * float(Nilai_Presensi) + 0.1 * float(Nilai_Tugas) + 0.30 * float(Nilai_Tugas) + 0.25 * float(Nilai_UTS) + 0.30 * float(Nilai_UAS)\n",
    "        \n",
    "        if 100 >= total_nilai >= 85 :\n",
    "            return \"A\"\n",
    "        if total_nilai >= 70 :\n",
    "            return \"B\"\n",
    "        if total_nilai >= 50 :\n",
    "            return \"C\"\n",
    "        if total_nilai >= 30 :\n",
    "            return \"D\"\n",
    "        else :\n",
    "            return \"E\"\n",
    "        \n",
    "    X = Nama_Mahasiswa\n",
    "    A = (rata_rata_nilai(Nilai_Presensi, Nilai_Tugas, Nilai_UTS, Nilai_UAS))\n",
    "    Z = Nama_Matkul\n",
    "    total_nilai = (0.05 * float(Nilai_Presensi) + 0.1 * float(Nilai_Tugas) + 0.30 * float(Nilai_Tugas) + 0.25 * float(Nilai_UTS) + 0.30 * float(Nilai_UAS))\n",
    "    print (\"\\n\")\n",
    "    print (\"Mahasiswa\", X, \"mendapatkan nilai\", A, \"untuk Mata Kuliah\", Z, \"dengan skor total\", total_nilai)\n",
    "else :\n",
    "    print (\"Incorrect user name ID or password.\")\n"
   ]
  },
  {
   "cell_type": "code",
   "execution_count": 38,
   "id": "b91975cb",
   "metadata": {},
   "outputs": [
    {
     "name": "stdout",
     "output_type": "stream",
     "text": [
      "Please Enter your username or ID and password to Login :\n",
      "Username or ID :YulizarW\n",
      "Password :ADA123*\n",
      "\n",
      "\n",
      "ERROR : Incorrect user name ID or password.\n"
     ]
    }
   ],
   "source": [
    "#Kondisi saat salah memasukkan ID atau password \n",
    "\n",
    "usernameID_login1 = \"DonyM\"\n",
    "password_login1 = \"ADA123*\"\n",
    "usernameID_login2 = \"YulizarW\"\n",
    "password_login2 = \"ADA124*\"\n",
    "\n",
    "print (\"Please Enter your username or ID and password to Login :\")\n",
    "user_name = input(\"Username or ID :\")\n",
    "pass_word = input(\"Password :\")\n",
    "print (\"\\n\")\n",
    "\n",
    "if user_name == usernameID_login1 and pass_word == password_login1 or user_name == usernameID_login2 and pass_word == password_login2 : \n",
    "    print (\"Status_Login = Active\")\n",
    "    print (\"Hallo, \" + user_name)\n",
    "    print (\"\\n\")\n",
    "    Nama_Mahasiswa = input(\"Masukkan Nama Mahasiswa yang akan di grading : \")\n",
    "    Nama_Matkul = input(\"Nama Mata Kuliah : \")\n",
    "    Nilai_Presensi = input(\"Silahkan Masukkan nilai Presensi : \")\n",
    "    Nilai_Tugas = input(\"Silahkan Masukkan nilai Tugas : \")\n",
    "    Nilai_UTS = input(\"Silahkan Masukkan nilai UTS : \")\n",
    "    Nilai_UAS = input(\"Silahkan Masukkan nilai UAS : \")\n",
    "    def rata_rata_nilai(Nilai_Presensi, Nilai_Tugas, Nilai_UTS, Nilai_UAS):\n",
    "        total_nilai = 0.05 * float(Nilai_Presensi) + 0.1 * float(Nilai_Tugas) + 0.30 * float(Nilai_Tugas) + 0.25 * float(Nilai_UTS) + 0.30 * float(Nilai_UAS)\n",
    "        \n",
    "        if 100 >= total_nilai >= 85 :\n",
    "            return \"A\"\n",
    "        if total_nilai >= 70 :\n",
    "            return \"B\"\n",
    "        if total_nilai >= 50 :\n",
    "            return \"C\"\n",
    "        if total_nilai >= 30 :\n",
    "            return \"D\"\n",
    "        else :\n",
    "            return \"E\"\n",
    "        \n",
    "    X = Nama_Mahasiswa\n",
    "    A = (rata_rata_nilai(Nilai_Presensi, Nilai_Tugas, Nilai_UTS, Nilai_UAS))\n",
    "    Z = Nama_Matkul\n",
    "    total_nilai = (0.05 * float(Nilai_Presensi) + 0.1 * float(Nilai_Tugas) + 0.30 * float(Nilai_Tugas) + 0.25 * float(Nilai_UTS) + 0.30 * float(Nilai_UAS))\n",
    "    print (\"\\n\")\n",
    "    print (\"Mahasiswa\", X, \"mendapatkan nilai\", A, \"untuk Mata Kuliah\", Z, \"dengan skor total\", total_nilai)\n",
    "else :\n",
    "    print (\"ERROR : Incorrect user name ID or password.\")"
   ]
  }
 ],
 "metadata": {
  "kernelspec": {
   "display_name": "Python 3 (ipykernel)",
   "language": "python",
   "name": "python3"
  },
  "language_info": {
   "codemirror_mode": {
    "name": "ipython",
    "version": 3
   },
   "file_extension": ".py",
   "mimetype": "text/x-python",
   "name": "python",
   "nbconvert_exporter": "python",
   "pygments_lexer": "ipython3",
   "version": "3.10.6"
  }
 },
 "nbformat": 4,
 "nbformat_minor": 5
}
