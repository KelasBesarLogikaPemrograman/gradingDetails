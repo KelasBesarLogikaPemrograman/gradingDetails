{
 "cells": [
  {
   "cell_type": "code",
   "execution_count": null,
   "metadata": {},
   "outputs": [],
   "source": [
    "username1 = \"Kratos Bin Zeus\"\n",
    "password1 = \"bbboooiii\"\n",
    "\n",
    "print (\"Tolong masukkan nama pengguna dan kata sandi anda!\")\n",
    "username = input(\"Nama Pengguna:\")\n",
    "print(\"Nama Pengguna:\", username)\n",
    "password = input(\"Kata sandi:\")\n",
    "print(\"Kata sandi:\", password)\n",
    "print(\"\\n\")\n",
    "\n",
    "if username==username1 and password==password1:\n",
    "    print(\"Status Login = Aktif\")\n",
    "    print(\"Halo,\", username, \"!\")\n",
    "    print(\"\\n\")\n",
    "    Nama_Mahasiswa = input(\"Masukkan nama mahasiswa yang akan digrading :\")\n",
    "    print(\"Masukkan nama mahasiswa yang akan digrading :\", Nama_Mahasiswa)\n",
    "    Nama_MataKuliah = input(\"Nama mata kuliah :\")\n",
    "    print(\"Nama mata kuliah :\", Nama_MataKuliah)\n",
    "    Nilai_Presensi = input(\"Silakan masukkan nilai presensi :\")\n",
    "    print(\"Silakan masukkan nilai presensi :\", Nilai_Presensi)\n",
    "    Nilai_Tugas = input(\"Silakan masukkan nilai tugas :\")\n",
    "    print(\"Silakan masukkan nilai tugas :\", Nilai_Tugas)\n",
    "    Nilai_UTS = input(\"Silakan masukkan nilai UTS :\")\n",
    "    print(\"Silakan masukkan nilai UTS :\", Nilai_UTS)\n",
    "    Nilai_UAS = input(\"Silakan masukkan nilai UAS :\")\n",
    "    print(\"Silakan masukkan nilai UAS :\", Nilai_UAS)\n",
    "    def averageNilai(Nilai_Presensi, Nilai_Tugas, Nilai_UTS, Nilai_UAS):\n",
    "        totalnilai = (0.05*float(Nilai_Presensi)) + (0.1*float(Nilai_Tugas)) + (0.30*float(Nilai_Tugas)) + (0.25*float(Nilai_UTS)) + (0.30*float(Nilai_UAS))\n",
    "        if 100 >= totalnilai >= 85:\n",
    "            return \"A\"\n",
    "        elif totalnilai >= 70 :\n",
    "            return \"B\"\n",
    "        elif totalnilai>= 50:\n",
    "            return \"C\"\n",
    "        elif totalnilai>= 30 :\n",
    "            return \"D\"\n",
    "        else :\n",
    "            return \"E\"\n",
    "\n",
    "    P = Nama_Mahasiswa\n",
    "    Q = Nama_MataKuliah\n",
    "    R = averageNilai(Nilai_Presensi, Nilai_Tugas, Nilai_UTS, Nilai_UAS)\n",
    "    totalnilai = (0.05*float(Nilai_Presensi)) + (0.1*float(Nilai_Tugas)) + (0.30*float(Nilai_Tugas)) + (0.25*float(Nilai_UTS)) + (0.30*float(Nilai_UAS))\n",
    "    print(\"\\n\") \n",
    "    print (\"Mahasiswa\", P, \"mendapatkan nilai\", R, \"untuk mata kuliah\", Q, \"dengan total nilai\", totalnilai)\n",
    "\n",
    "else :\n",
    "    print(\"Ups,error!!!\")"
   ]
  }
 ],
 "metadata": {
  "kernelspec": {
   "display_name": "Python 3.11.0 64-bit",
   "language": "python",
   "name": "python3"
  },
  "language_info": {
   "name": "python",
   "version": "3.11.0"
  },
  "orig_nbformat": 4,
  "vscode": {
   "interpreter": {
    "hash": "4843b59a50d53115dfcf12bb5a76188c774068f1b08aeab6738f76e1871b699a"
   }
  }
 },
 "nbformat": 4,
 "nbformat_minor": 2
}
